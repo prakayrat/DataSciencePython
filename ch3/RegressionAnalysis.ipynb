{
 "cells": [
  {
   "cell_type": "markdown",
   "id": "c2739eed-8edf-4d3b-8290-998f2249b1df",
   "metadata": {},
   "source": [
    "# Chapter 3\n",
    "# Regression Analysis"
   ]
  },
  {
   "cell_type": "markdown",
   "id": "02b717da-ea12-4d47-b2e3-0d4a7f5f7bd5",
   "metadata": {},
   "source": [
    "## # Linear Regression"
   ]
  },
  {
   "cell_type": "code",
   "execution_count": null,
   "id": "f9726eaa-7f3e-4a1f-8ca6-31102e9ece83",
   "metadata": {},
   "outputs": [],
   "source": [
    "# (source: https://github.com/profsarang/ThinkingDataScience/blob/main/Ch04/LinearRegression.ipynb)\n",
    "# (dataset: https://www.kaggle.com/datasets/mirichoi0218/insurance)"
   ]
  },
  {
   "cell_type": "code",
   "execution_count": null,
   "id": "e98feb0a-56ca-485f-992e-2cde723162c0",
   "metadata": {},
   "outputs": [],
   "source": [
    "import pandas as pd"
   ]
  },
  {
   "cell_type": "code",
   "execution_count": null,
   "id": "c23392b4-9c45-4ff8-bdeb-9282bb36e6fd",
   "metadata": {},
   "outputs": [],
   "source": []
  }
 ],
 "metadata": {
  "kernelspec": {
   "display_name": "Python 3 (ipykernel)",
   "language": "python",
   "name": "python3"
  },
  "language_info": {
   "codemirror_mode": {
    "name": "ipython",
    "version": 3
   },
   "file_extension": ".py",
   "mimetype": "text/x-python",
   "name": "python",
   "nbconvert_exporter": "python",
   "pygments_lexer": "ipython3",
   "version": "3.10.11"
  }
 },
 "nbformat": 4,
 "nbformat_minor": 5
}
